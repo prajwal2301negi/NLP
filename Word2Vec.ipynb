{
 "cells": [
  {
   "cell_type": "markdown",
   "id": "56415845-7b9f-4ec9-ad07-e4ef10167189",
   "metadata": {},
   "source": [
    "# Word2Vec"
   ]
  },
  {
   "cell_type": "code",
   "execution_count": 2,
   "id": "783555f2-d2d2-4d92-9942-1511fbab919d",
   "metadata": {},
   "outputs": [],
   "source": [
    "import numpy as np\n",
    "import pandas as pd"
   ]
  },
  {
   "cell_type": "code",
   "execution_count": 3,
   "id": "1f1c6a13-3706-47e3-91a5-8e4a6e68579a",
   "metadata": {},
   "outputs": [],
   "source": [
    "temp_df = pd.read_csv(r\"C:\\Users\\prajwal\\Downloads\\imdb_dataset\\IMDB Dataset.csv\")"
   ]
  },
  {
   "cell_type": "code",
   "execution_count": 4,
   "id": "adabd6cd-ceb3-43b5-b4f2-e6d84162c105",
   "metadata": {},
   "outputs": [],
   "source": [
    "df = temp_df.iloc[:10000]"
   ]
  },
  {
   "cell_type": "code",
   "execution_count": 5,
   "id": "7efb4466-2eb4-49be-9f08-a06b1651d78c",
   "metadata": {},
   "outputs": [
    {
     "data": {
      "text/html": [
       "<div>\n",
       "<style scoped>\n",
       "    .dataframe tbody tr th:only-of-type {\n",
       "        vertical-align: middle;\n",
       "    }\n",
       "\n",
       "    .dataframe tbody tr th {\n",
       "        vertical-align: top;\n",
       "    }\n",
       "\n",
       "    .dataframe thead th {\n",
       "        text-align: right;\n",
       "    }\n",
       "</style>\n",
       "<table border=\"1\" class=\"dataframe\">\n",
       "  <thead>\n",
       "    <tr style=\"text-align: right;\">\n",
       "      <th></th>\n",
       "      <th>review</th>\n",
       "      <th>sentiment</th>\n",
       "    </tr>\n",
       "  </thead>\n",
       "  <tbody>\n",
       "    <tr>\n",
       "      <th>0</th>\n",
       "      <td>One of the other reviewers has mentioned that ...</td>\n",
       "      <td>positive</td>\n",
       "    </tr>\n",
       "    <tr>\n",
       "      <th>1</th>\n",
       "      <td>A wonderful little production. &lt;br /&gt;&lt;br /&gt;The...</td>\n",
       "      <td>positive</td>\n",
       "    </tr>\n",
       "    <tr>\n",
       "      <th>2</th>\n",
       "      <td>I thought this was a wonderful way to spend ti...</td>\n",
       "      <td>positive</td>\n",
       "    </tr>\n",
       "    <tr>\n",
       "      <th>3</th>\n",
       "      <td>Basically there's a family where a little boy ...</td>\n",
       "      <td>negative</td>\n",
       "    </tr>\n",
       "    <tr>\n",
       "      <th>4</th>\n",
       "      <td>Petter Mattei's \"Love in the Time of Money\" is...</td>\n",
       "      <td>positive</td>\n",
       "    </tr>\n",
       "  </tbody>\n",
       "</table>\n",
       "</div>"
      ],
      "text/plain": [
       "                                              review sentiment\n",
       "0  One of the other reviewers has mentioned that ...  positive\n",
       "1  A wonderful little production. <br /><br />The...  positive\n",
       "2  I thought this was a wonderful way to spend ti...  positive\n",
       "3  Basically there's a family where a little boy ...  negative\n",
       "4  Petter Mattei's \"Love in the Time of Money\" is...  positive"
      ]
     },
     "execution_count": 5,
     "metadata": {},
     "output_type": "execute_result"
    }
   ],
   "source": [
    "df.head()"
   ]
  },
  {
   "cell_type": "code",
   "execution_count": 6,
   "id": "45ffbaab-3c0d-45ea-831d-63fc5af63e77",
   "metadata": {},
   "outputs": [
    {
     "name": "stderr",
     "output_type": "stream",
     "text": [
      "C:\\Users\\prajwal\\AppData\\Local\\Temp\\ipykernel_8064\\3006716147.py:1: SettingWithCopyWarning: \n",
      "A value is trying to be set on a copy of a slice from a DataFrame\n",
      "\n",
      "See the caveats in the documentation: https://pandas.pydata.org/pandas-docs/stable/user_guide/indexing.html#returning-a-view-versus-a-copy\n",
      "  df.drop_duplicates(inplace=True)\n"
     ]
    }
   ],
   "source": [
    "df.drop_duplicates(inplace=True)"
   ]
  },
  {
   "cell_type": "code",
   "execution_count": 7,
   "id": "2c5ad3a5-352f-4736-8067-b94708c1c63c",
   "metadata": {},
   "outputs": [],
   "source": [
    "import re\n",
    "def remove_tags(raw_text):\n",
    "    cleaned_text = re.sub(re.compile('<.*?>'), '', raw_text)\n",
    "    return cleaned_text"
   ]
  },
  {
   "cell_type": "code",
   "execution_count": 8,
   "id": "ead14213-3741-4a74-9386-d4d94cccc4b8",
   "metadata": {},
   "outputs": [
    {
     "name": "stderr",
     "output_type": "stream",
     "text": [
      "C:\\Users\\prajwal\\AppData\\Local\\Temp\\ipykernel_8064\\2336150696.py:1: SettingWithCopyWarning: \n",
      "A value is trying to be set on a copy of a slice from a DataFrame.\n",
      "Try using .loc[row_indexer,col_indexer] = value instead\n",
      "\n",
      "See the caveats in the documentation: https://pandas.pydata.org/pandas-docs/stable/user_guide/indexing.html#returning-a-view-versus-a-copy\n",
      "  df['review'] = df['review'].apply(remove_tags)\n"
     ]
    }
   ],
   "source": [
    "df['review'] = df['review'].apply(remove_tags)"
   ]
  },
  {
   "cell_type": "code",
   "execution_count": 9,
   "id": "45c0a70c-ec01-4e7a-b6ea-0c38820c14bd",
   "metadata": {},
   "outputs": [
    {
     "name": "stderr",
     "output_type": "stream",
     "text": [
      "C:\\Users\\prajwal\\AppData\\Local\\Temp\\ipykernel_8064\\740760900.py:1: SettingWithCopyWarning: \n",
      "A value is trying to be set on a copy of a slice from a DataFrame.\n",
      "Try using .loc[row_indexer,col_indexer] = value instead\n",
      "\n",
      "See the caveats in the documentation: https://pandas.pydata.org/pandas-docs/stable/user_guide/indexing.html#returning-a-view-versus-a-copy\n",
      "  df['review'] = df['review'].apply(lambda x:x.lower())\n"
     ]
    }
   ],
   "source": [
    "df['review'] = df['review'].apply(lambda x:x.lower())"
   ]
  },
  {
   "cell_type": "code",
   "execution_count": 10,
   "id": "8a669d45-2b24-4576-8647-b5179c83418c",
   "metadata": {},
   "outputs": [
    {
     "name": "stderr",
     "output_type": "stream",
     "text": [
      "C:\\Users\\prajwal\\AppData\\Local\\Temp\\ipykernel_8064\\2826946130.py:5: SettingWithCopyWarning: \n",
      "A value is trying to be set on a copy of a slice from a DataFrame.\n",
      "Try using .loc[row_indexer,col_indexer] = value instead\n",
      "\n",
      "See the caveats in the documentation: https://pandas.pydata.org/pandas-docs/stable/user_guide/indexing.html#returning-a-view-versus-a-copy\n",
      "  df['review'] = df['review'].apply(lambda x: [item for item in x.split() if item not in sw_list]).apply(lambda x:\" \".join(x))\n"
     ]
    }
   ],
   "source": [
    "from nltk.corpus import stopwords\n",
    "\n",
    "sw_list = stopwords.words('english')\n",
    "\n",
    "df['review'] = df['review'].apply(lambda x: [item for item in x.split() if item not in sw_list]).apply(lambda x:\" \".join(x))"
   ]
  },
  {
   "cell_type": "code",
   "execution_count": 11,
   "id": "3cccffda-4ec4-4f4f-abeb-c87e60541b8e",
   "metadata": {},
   "outputs": [
    {
     "data": {
      "text/plain": [
       "0       one reviewers mentioned watching 1 oz episode ...\n",
       "1       wonderful little production. filming technique...\n",
       "2       thought wonderful way spend time hot summer we...\n",
       "3       basically there's family little boy (jake) thi...\n",
       "4       petter mattei's \"love time money\" visually stu...\n",
       "                              ...                        \n",
       "9995    fun, entertaining movie wwii german spy (julie...\n",
       "9996    give break. anyone say \"good hockey movie\"? kn...\n",
       "9997    movie bad movie. watching endless series bad h...\n",
       "9998    movie probably made entertain middle school, e...\n",
       "9999    smashing film film-making. shows intense stran...\n",
       "Name: review, Length: 9983, dtype: object"
      ]
     },
     "execution_count": 11,
     "metadata": {},
     "output_type": "execute_result"
    }
   ],
   "source": [
    "df['review']"
   ]
  },
  {
   "cell_type": "code",
   "execution_count": 16,
   "id": "1ecc3b12-734a-4dd6-a68a-1cd8609e6036",
   "metadata": {},
   "outputs": [],
   "source": [
    "import gensim"
   ]
  },
  {
   "cell_type": "code",
   "execution_count": 17,
   "id": "e44b708d-ffb9-4f8d-9161-2ba1fcef3d91",
   "metadata": {},
   "outputs": [],
   "source": [
    "from nltk import sent_tokenize\n",
    "from gensim.utils import simple_preprocess"
   ]
  },
  {
   "cell_type": "code",
   "execution_count": 23,
   "id": "f331274f-db5b-4f71-bed2-1022921a8c4a",
   "metadata": {},
   "outputs": [
    {
     "name": "stdout",
     "output_type": "stream",
     "text": [
      "showing info https://raw.githubusercontent.com/nltk/nltk_data/gh-pages/index.xml\n"
     ]
    },
    {
     "data": {
      "text/plain": [
       "True"
      ]
     },
     "execution_count": 23,
     "metadata": {},
     "output_type": "execute_result"
    }
   ],
   "source": [
    "import nltk\n",
    "nltk.download()"
   ]
  },
  {
   "cell_type": "code",
   "execution_count": 24,
   "id": "cac37f13-6204-4aca-ac48-d83238052e58",
   "metadata": {},
   "outputs": [],
   "source": [
    "story = []\n",
    "for doc in df['review']:\n",
    "    raw_sent = sent_tokenize(doc)\n",
    "    for sent in raw_sent:\n",
    "        story.append(simple_preprocess(sent))"
   ]
  },
  {
   "cell_type": "code",
   "execution_count": 25,
   "id": "399be935-839d-4022-8889-a48c4c99bb31",
   "metadata": {},
   "outputs": [],
   "source": [
    "model = gensim.models.Word2Vec(\n",
    "    window=10,\n",
    "    min_count=2\n",
    ")"
   ]
  },
  {
   "cell_type": "code",
   "execution_count": 26,
   "id": "df877c47-41e0-4341-8dfa-2e7f34d28eb2",
   "metadata": {},
   "outputs": [],
   "source": [
    "model.build_vocab(story)"
   ]
  },
  {
   "cell_type": "code",
   "execution_count": 27,
   "id": "58cd4943-87cd-483d-b936-b3574ead8fa5",
   "metadata": {},
   "outputs": [
    {
     "data": {
      "text/plain": [
       "(5875953, 6212140)"
      ]
     },
     "execution_count": 27,
     "metadata": {},
     "output_type": "execute_result"
    }
   ],
   "source": [
    "model.train(story, total_examples=model.corpus_count, epochs=model.epochs)"
   ]
  },
  {
   "cell_type": "code",
   "execution_count": 28,
   "id": "311e3c55-5c7e-4a76-9199-6291af55be08",
   "metadata": {},
   "outputs": [
    {
     "data": {
      "text/plain": [
       "31845"
      ]
     },
     "execution_count": 28,
     "metadata": {},
     "output_type": "execute_result"
    }
   ],
   "source": [
    "len(model.wv.index_to_key)"
   ]
  },
  {
   "cell_type": "code",
   "execution_count": 29,
   "id": "c1a50e07-741d-489a-bc43-0b6d7b8e9122",
   "metadata": {},
   "outputs": [],
   "source": [
    "def document_vector(doc):\n",
    "    # remove out-of-vocabulary words\n",
    "    doc = [word for word in doc.split() if word in model.wv.index_to_key]\n",
    "    return np.mean(model.wv[doc], axis=0)"
   ]
  },
  {
   "cell_type": "code",
   "execution_count": 30,
   "id": "6856d277-72ae-4c5a-9ffe-d4d8c6a0cd29",
   "metadata": {},
   "outputs": [
    {
     "data": {
      "text/plain": [
       "array([-1.7436297e-01,  4.6271846e-01,  1.2986171e-01,  2.3855846e-01,\n",
       "       -1.1641364e-01, -6.0518420e-01,  2.0777844e-01,  9.9462223e-01,\n",
       "       -3.1645158e-01, -2.7232265e-01, -3.1547272e-01, -5.3179103e-01,\n",
       "        1.3771623e-01,  1.0970077e-01,  1.4488515e-01, -1.8100937e-01,\n",
       "        3.9682180e-02, -3.5624573e-01, -2.2796858e-02, -6.5261126e-01,\n",
       "       -5.8758883e-03,  2.1823914e-01,  1.4079382e-01, -2.9852349e-01,\n",
       "       -2.4515404e-01, -5.0454263e-02, -3.3012477e-01, -7.7139569e-04,\n",
       "       -3.0297366e-01,  1.5378711e-02,  3.1131357e-01, -4.3682922e-02,\n",
       "        2.4163792e-01, -2.5166246e-01, -1.8549258e-01,  4.0659916e-01,\n",
       "        1.9586556e-01, -3.8989073e-01, -1.9951335e-01, -7.0896769e-01,\n",
       "        1.3877997e-01, -2.3428573e-01,  6.9825307e-02, -8.6977936e-02,\n",
       "        5.4396117e-01, -8.0954991e-02, -2.5787318e-01,  1.2733199e-03,\n",
       "        8.9181580e-02,  3.2536411e-01,  5.5638235e-02, -3.2032096e-01,\n",
       "       -4.2747098e-01, -1.3422461e-01, -6.7854866e-02,  1.3487555e-01,\n",
       "        2.5229990e-01,  1.5103490e-02, -2.9041180e-01,  3.8494080e-02,\n",
       "       -4.5337873e-03,  1.3666092e-01,  1.6494436e-02, -1.1851190e-02,\n",
       "       -4.1996014e-01,  2.9748657e-01, -2.5663927e-02,  1.6856393e-01,\n",
       "       -4.4405478e-01,  3.3299214e-01, -2.8482288e-01,  9.5791891e-02,\n",
       "        5.2467567e-01, -5.5682048e-02,  3.4363267e-01,  2.4966169e-02,\n",
       "       -3.1168446e-02, -1.1652904e-01, -4.8778743e-01,  2.0470674e-01,\n",
       "       -3.1722376e-01,  1.0618723e-01, -4.5295501e-01,  4.4520554e-01,\n",
       "       -1.1832954e-01, -1.5117444e-01, -1.7001253e-02,  2.4961235e-01,\n",
       "        3.5152796e-01,  7.5311795e-02,  1.7815962e-01,  2.8278708e-01,\n",
       "        6.5356217e-02,  8.7324172e-02,  6.6923082e-01,  2.7942380e-01,\n",
       "        2.0171244e-01, -1.6054723e-01, -4.4872548e-02, -7.7078536e-02],\n",
       "      dtype=float32)"
      ]
     },
     "execution_count": 30,
     "metadata": {},
     "output_type": "execute_result"
    }
   ],
   "source": [
    "document_vector(df['review'].values[0])"
   ]
  },
  {
   "cell_type": "code",
   "execution_count": 31,
   "id": "a3c0de90-c0ca-439d-84d5-cfca2f029f4b",
   "metadata": {},
   "outputs": [],
   "source": [
    "from tqdm import tqdm"
   ]
  },
  {
   "cell_type": "code",
   "execution_count": 32,
   "id": "d6a95d35-3d6a-4763-8891-722fa43b1bec",
   "metadata": {},
   "outputs": [
    {
     "name": "stderr",
     "output_type": "stream",
     "text": [
      "100%|██████████████████████████████████████████████████████████████████████████████| 9983/9983 [15:42<00:00, 10.59it/s]\n"
     ]
    }
   ],
   "source": [
    "X = []\n",
    "for doc in tqdm(df['review'].values):\n",
    "    X.append(document_vector(doc))"
   ]
  },
  {
   "cell_type": "code",
   "execution_count": 33,
   "id": "fae14410-4c60-49a7-b008-91836e1485c9",
   "metadata": {},
   "outputs": [],
   "source": [
    "X = np.array(X)"
   ]
  },
  {
   "cell_type": "code",
   "execution_count": 34,
   "id": "f4aaa332-0300-4b79-ac00-495c23c671f2",
   "metadata": {},
   "outputs": [
    {
     "data": {
      "text/plain": [
       "array([-1.7436297e-01,  4.6271846e-01,  1.2986171e-01,  2.3855846e-01,\n",
       "       -1.1641364e-01, -6.0518420e-01,  2.0777844e-01,  9.9462223e-01,\n",
       "       -3.1645158e-01, -2.7232265e-01, -3.1547272e-01, -5.3179103e-01,\n",
       "        1.3771623e-01,  1.0970077e-01,  1.4488515e-01, -1.8100937e-01,\n",
       "        3.9682180e-02, -3.5624573e-01, -2.2796858e-02, -6.5261126e-01,\n",
       "       -5.8758883e-03,  2.1823914e-01,  1.4079382e-01, -2.9852349e-01,\n",
       "       -2.4515404e-01, -5.0454263e-02, -3.3012477e-01, -7.7139569e-04,\n",
       "       -3.0297366e-01,  1.5378711e-02,  3.1131357e-01, -4.3682922e-02,\n",
       "        2.4163792e-01, -2.5166246e-01, -1.8549258e-01,  4.0659916e-01,\n",
       "        1.9586556e-01, -3.8989073e-01, -1.9951335e-01, -7.0896769e-01,\n",
       "        1.3877997e-01, -2.3428573e-01,  6.9825307e-02, -8.6977936e-02,\n",
       "        5.4396117e-01, -8.0954991e-02, -2.5787318e-01,  1.2733199e-03,\n",
       "        8.9181580e-02,  3.2536411e-01,  5.5638235e-02, -3.2032096e-01,\n",
       "       -4.2747098e-01, -1.3422461e-01, -6.7854866e-02,  1.3487555e-01,\n",
       "        2.5229990e-01,  1.5103490e-02, -2.9041180e-01,  3.8494080e-02,\n",
       "       -4.5337873e-03,  1.3666092e-01,  1.6494436e-02, -1.1851190e-02,\n",
       "       -4.1996014e-01,  2.9748657e-01, -2.5663927e-02,  1.6856393e-01,\n",
       "       -4.4405478e-01,  3.3299214e-01, -2.8482288e-01,  9.5791891e-02,\n",
       "        5.2467567e-01, -5.5682048e-02,  3.4363267e-01,  2.4966169e-02,\n",
       "       -3.1168446e-02, -1.1652904e-01, -4.8778743e-01,  2.0470674e-01,\n",
       "       -3.1722376e-01,  1.0618723e-01, -4.5295501e-01,  4.4520554e-01,\n",
       "       -1.1832954e-01, -1.5117444e-01, -1.7001253e-02,  2.4961235e-01,\n",
       "        3.5152796e-01,  7.5311795e-02,  1.7815962e-01,  2.8278708e-01,\n",
       "        6.5356217e-02,  8.7324172e-02,  6.6923082e-01,  2.7942380e-01,\n",
       "        2.0171244e-01, -1.6054723e-01, -4.4872548e-02, -7.7078536e-02],\n",
       "      dtype=float32)"
      ]
     },
     "execution_count": 34,
     "metadata": {},
     "output_type": "execute_result"
    }
   ],
   "source": [
    "X[0]"
   ]
  },
  {
   "cell_type": "code",
   "execution_count": 35,
   "id": "6facfd0f-9580-4563-a7b3-006477eabb4e",
   "metadata": {},
   "outputs": [],
   "source": [
    "from sklearn.preprocessing import LabelEncoder\n",
    "encoder = LabelEncoder()\n",
    "\n",
    "y = encoder.fit_transform(df['sentiment'])"
   ]
  },
  {
   "cell_type": "code",
   "execution_count": 36,
   "id": "6f692cf4-f942-4f1c-97f8-d86a370c68fa",
   "metadata": {},
   "outputs": [
    {
     "data": {
      "text/plain": [
       "array([1, 1, 1, ..., 0, 0, 1])"
      ]
     },
     "execution_count": 36,
     "metadata": {},
     "output_type": "execute_result"
    }
   ],
   "source": [
    "y"
   ]
  },
  {
   "cell_type": "code",
   "execution_count": 37,
   "id": "6ddcad6f-4e38-42a9-afd8-8e7a258a1964",
   "metadata": {},
   "outputs": [],
   "source": [
    "from sklearn.model_selection import train_test_split\n",
    "X_train,X_test,y_train,y_test = train_test_split(X,y,test_size=0.2,random_state=1)"
   ]
  },
  {
   "cell_type": "code",
   "execution_count": 38,
   "id": "5c3f6a79-3048-4695-96cd-f1f82f53c2db",
   "metadata": {},
   "outputs": [],
   "source": [
    "from sklearn.ensemble import RandomForestClassifier\n",
    "from sklearn.metrics import accuracy_score"
   ]
  },
  {
   "cell_type": "code",
   "execution_count": 39,
   "id": "e98b28df-12be-41dc-ac7a-b08990d9ee92",
   "metadata": {},
   "outputs": [
    {
     "data": {
      "text/plain": [
       "0.771156735102654"
      ]
     },
     "execution_count": 39,
     "metadata": {},
     "output_type": "execute_result"
    }
   ],
   "source": [
    "rf = RandomForestClassifier()\n",
    "rf.fit(X_train,y_train)\n",
    "y_pred = rf.predict(X_test)\n",
    "accuracy_score(y_test,y_pred)"
   ]
  },
  {
   "cell_type": "code",
   "execution_count": null,
   "id": "4fbc3c14-ad7a-4b2f-879d-f653baf5794a",
   "metadata": {},
   "outputs": [],
   "source": []
  }
 ],
 "metadata": {
  "kernelspec": {
   "display_name": "Python 3 (ipykernel)",
   "language": "python",
   "name": "python3"
  },
  "language_info": {
   "codemirror_mode": {
    "name": "ipython",
    "version": 3
   },
   "file_extension": ".py",
   "mimetype": "text/x-python",
   "name": "python",
   "nbconvert_exporter": "python",
   "pygments_lexer": "ipython3",
   "version": "3.12.4"
  }
 },
 "nbformat": 4,
 "nbformat_minor": 5
}
